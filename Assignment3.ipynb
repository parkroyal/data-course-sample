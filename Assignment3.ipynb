{
 "cells": [
  {
   "cell_type": "markdown",
   "id": "ZLd6n-dV_CVk",
   "metadata": {
    "id": "ZLd6n-dV_CVk"
   },
   "source": [
    "# Sample Code"
   ]
  },
  {
   "cell_type": "markdown",
   "id": "xvrXKYBh_CVo",
   "metadata": {
    "id": "xvrXKYBh_CVo"
   },
   "source": [
    "## 基礎建設"
   ]
  },
  {
   "cell_type": "code",
   "execution_count": null,
   "id": "E7uO3D6j_CVo",
   "metadata": {
    "id": "E7uO3D6j_CVo",
    "scrolled": true
   },
   "outputs": [],
   "source": [
    "import pandas as pd\n",
    "import gzip, json\n",
    "import numpy as np\n",
    "import re \n",
    "import matplotlib.pyplot as plt\n",
    "from sklearn.feature_extraction.text import TfidfVectorizer\n",
    "from sklearn.metrics.pairwise import cosine_similarity\n",
    "from collections import defaultdict\n",
    "from itertools import combinations\n",
    "\n",
    "\n",
    "def parse(path):\n",
    "    g = gzip.open(path, 'rb')\n",
    "    for l in g:\n",
    "        yield json.loads(l)\n",
    "\n",
    "def getDF(path):\n",
    "    i = 0\n",
    "    df = {}\n",
    "    for d in parse(path):\n",
    "        df[i] = d\n",
    "        i += 1\n",
    "    return pd.DataFrame.from_dict(df, orient='index')"
   ]
  },
  {
   "cell_type": "markdown",
   "id": "tst2vwMI_CVq",
   "metadata": {
    "id": "tst2vwMI_CVq"
   },
   "source": [
    "## 載入資料"
   ]
  },
  {
   "cell_type": "code",
   "execution_count": null,
   "id": "TZ83151K_CVr",
   "metadata": {
    "colab": {
     "base_uri": "https://localhost:8080/"
    },
    "id": "TZ83151K_CVr",
    "outputId": "9b50b36d-62f7-4d05-e46c-5fc8eadc3c07"
   },
   "outputs": [
    {
     "name": "stderr",
     "output_type": "stream",
     "text": [
      "'wget' ���O�����Υ~���R�O�B�i���檺�{���Χ妸�ɡC\n",
      "'wget' ���O�����Υ~���R�O�B�i���檺�{���Χ妸�ɡC\n"
     ]
    }
   ],
   "source": [
    "!wget http://deepyeti.ucsd.edu/jianmo/amazon/categoryFilesSmall/All_Beauty.csv\n",
    "!wget http://deepyeti.ucsd.edu/jianmo/amazon/metaFiles2/meta_All_Beauty.json.gz"
   ]
  },
  {
   "cell_type": "code",
   "execution_count": null,
   "id": "3mULJ_mG_CVr",
   "metadata": {
    "id": "3mULJ_mG_CVr"
   },
   "outputs": [],
   "source": [
    "metadata = getDF('../content/meta_All_Beauty.json.gz')\n",
    "ratings = pd.read_csv('../content/All_Beauty.csv', names=['asin', 'reviewerID', 'overall', 'unixReviewTime'], header=None)"
   ]
  },
  {
   "cell_type": "code",
   "execution_count": null,
   "id": "_VEsxmFW_CVu",
   "metadata": {
    "id": "_VEsxmFW_CVu"
   },
   "outputs": [],
   "source": [
    "ratings['DATE'] = pd.to_datetime(ratings['unixReviewTime'], unit='s')"
   ]
  },
  {
   "cell_type": "markdown",
   "id": "1bcebc6d",
   "metadata": {},
   "source": [
    "# EDA"
   ]
  },
  {
   "cell_type": "code",
   "execution_count": null,
   "id": "40f2ff7c",
   "metadata": {},
   "outputs": [
    {
     "name": "stdout",
     "output_type": "stream",
     "text": [
      "(17994, 5)\n"
     ]
    }
   ],
   "source": [
    "# 重複資料\n",
    "df = ratings[ratings.duplicated(keep = False)]\n",
    "print(df.shape)\n",
    "# 刪除重複資料\n",
    "ratings = ratings.drop_duplicates()\n",
    "# ratings.columns"
   ]
  },
  {
   "cell_type": "code",
   "execution_count": null,
   "id": "419e9142",
   "metadata": {},
   "outputs": [
    {
     "data": {
      "text/html": [
       "<div>\n",
       "<style scoped>\n",
       "    .dataframe tbody tr th:only-of-type {\n",
       "        vertical-align: middle;\n",
       "    }\n",
       "\n",
       "    .dataframe tbody tr th {\n",
       "        vertical-align: top;\n",
       "    }\n",
       "\n",
       "    .dataframe thead th {\n",
       "        text-align: right;\n",
       "    }\n",
       "</style>\n",
       "<table border=\"1\" class=\"dataframe\">\n",
       "  <thead>\n",
       "    <tr style=\"text-align: right;\">\n",
       "      <th></th>\n",
       "      <th>reviewerID</th>\n",
       "      <th>asin</th>\n",
       "      <th>count</th>\n",
       "    </tr>\n",
       "  </thead>\n",
       "  <tbody>\n",
       "    <tr>\n",
       "      <th>38281</th>\n",
       "      <td>A1EGCED01USBA9</td>\n",
       "      <td>B00W259T7G</td>\n",
       "      <td>7</td>\n",
       "    </tr>\n",
       "    <tr>\n",
       "      <th>5400</th>\n",
       "      <td>A1210QJT54O8T0</td>\n",
       "      <td>B00W259T7G</td>\n",
       "      <td>5</td>\n",
       "    </tr>\n",
       "    <tr>\n",
       "      <th>358767</th>\n",
       "      <td>AYWLGJPC5O7AQ</td>\n",
       "      <td>B00W259T7G</td>\n",
       "      <td>4</td>\n",
       "    </tr>\n",
       "    <tr>\n",
       "      <th>274461</th>\n",
       "      <td>A3VBXQKRM7A4JR</td>\n",
       "      <td>B00W259T7G</td>\n",
       "      <td>4</td>\n",
       "    </tr>\n",
       "    <tr>\n",
       "      <th>176411</th>\n",
       "      <td>A2UEIN7SIPZFRP</td>\n",
       "      <td>B00W259T7G</td>\n",
       "      <td>4</td>\n",
       "    </tr>\n",
       "    <tr>\n",
       "      <th>...</th>\n",
       "      <td>...</td>\n",
       "      <td>...</td>\n",
       "      <td>...</td>\n",
       "    </tr>\n",
       "    <tr>\n",
       "      <th>120625</th>\n",
       "      <td>A29ET8324U5H68</td>\n",
       "      <td>B00AV2YL98</td>\n",
       "      <td>1</td>\n",
       "    </tr>\n",
       "    <tr>\n",
       "      <th>120624</th>\n",
       "      <td>A29ESW6I6L1C11</td>\n",
       "      <td>B0051S94NA</td>\n",
       "      <td>1</td>\n",
       "    </tr>\n",
       "    <tr>\n",
       "      <th>120623</th>\n",
       "      <td>A29ESUU8CY73TF</td>\n",
       "      <td>B01CIVDSCA</td>\n",
       "      <td>1</td>\n",
       "    </tr>\n",
       "    <tr>\n",
       "      <th>120622</th>\n",
       "      <td>A29ES620PVEXCV</td>\n",
       "      <td>B014FXGIYO</td>\n",
       "      <td>1</td>\n",
       "    </tr>\n",
       "    <tr>\n",
       "      <th>361604</th>\n",
       "      <td>AZZZ5UJWUVCYZ</td>\n",
       "      <td>B01FNJ9MOW</td>\n",
       "      <td>1</td>\n",
       "    </tr>\n",
       "  </tbody>\n",
       "</table>\n",
       "<p>361605 rows × 3 columns</p>\n",
       "</div>"
      ],
      "text/plain": [
       "            reviewerID        asin  count\n",
       "38281   A1EGCED01USBA9  B00W259T7G      7\n",
       "5400    A1210QJT54O8T0  B00W259T7G      5\n",
       "358767   AYWLGJPC5O7AQ  B00W259T7G      4\n",
       "274461  A3VBXQKRM7A4JR  B00W259T7G      4\n",
       "176411  A2UEIN7SIPZFRP  B00W259T7G      4\n",
       "...                ...         ...    ...\n",
       "120625  A29ET8324U5H68  B00AV2YL98      1\n",
       "120624  A29ESW6I6L1C11  B0051S94NA      1\n",
       "120623  A29ESUU8CY73TF  B01CIVDSCA      1\n",
       "120622  A29ES620PVEXCV  B014FXGIYO      1\n",
       "361604   AZZZ5UJWUVCYZ  B01FNJ9MOW      1\n",
       "\n",
       "[361605 rows x 3 columns]"
      ]
     },
     "metadata": {},
     "output_type": "display_data"
    }
   ],
   "source": [
    "# 可能會有同個 user 對同個 item 的重複評分資料\n",
    "ratings.groupby(['reviewerID','asin'],as_index=False).agg(count=('reviewerID','count')).sort_values(['count'], ascending = False)"
   ]
  },
  {
   "cell_type": "code",
   "execution_count": null,
   "id": "9441a6d3",
   "metadata": {},
   "outputs": [],
   "source": [
    "# 針對評價同一個使用者評價同一個產品，依據時間先後把重複的資料過濾掉，如果重複的話，只留下最新的一筆評分。\n",
    "ratings = (ratings\n",
    "     .sort_values(\"unixReviewTime\", ascending=False)\n",
    "     .groupby(['reviewerID', 'asin']).head(1)\n",
    ")"
   ]
  },
  {
   "cell_type": "code",
   "execution_count": null,
   "id": "4236fa14",
   "metadata": {},
   "outputs": [
    {
     "data": {
      "text/plain": [
       "count    324038.000000\n",
       "mean          1.115934\n",
       "std           0.434325\n",
       "min           1.000000\n",
       "25%           1.000000\n",
       "50%           1.000000\n",
       "75%           1.000000\n",
       "max          24.000000\n",
       "Name: reviewerID, dtype: float64"
      ]
     },
     "metadata": {},
     "output_type": "display_data"
    }
   ],
   "source": [
    "# 客戶購買次數\n",
    "ratings['reviewerID'].value_counts().describe()"
   ]
  },
  {
   "cell_type": "code",
   "execution_count": null,
   "id": "d9a33a94",
   "metadata": {},
   "outputs": [
    {
     "data": {
      "text/plain": [
       "0.75    1.0\n",
       "0.80    1.0\n",
       "0.85    1.0\n",
       "0.90    1.0\n",
       "0.95    2.0\n",
       "0.98    2.0\n",
       "0.99    3.0\n",
       "Name: reviewerID, dtype: float64"
      ]
     },
     "metadata": {},
     "output_type": "display_data"
    }
   ],
   "source": [
    "ratings['reviewerID'].value_counts().quantile(q = [0.75,0.8,0.85,0.9,0.95,0.98, 0.99])"
   ]
  },
  {
   "cell_type": "markdown",
   "id": "b89dd0fa",
   "metadata": {},
   "source": [
    "平均評價次數 1.11, Q3 -> 1次 pr90 -> 1次，說明當排除使用者 < 3的時候 訓練集已經只剩下5%以下資料 \n",
    "導致樣本更少"
   ]
  },
  {
   "cell_type": "code",
   "execution_count": null,
   "id": "WyKxuvgd_CVs",
   "metadata": {
    "colab": {
     "base_uri": "https://localhost:8080/",
     "height": 997
    },
    "id": "WyKxuvgd_CVs",
    "outputId": "9c3060e1-5585-40b1-92f0-c91b10c0c85a"
   },
   "outputs": [
    {
     "data": {
      "text/html": [
       "<div>\n",
       "<style scoped>\n",
       "    .dataframe tbody tr th:only-of-type {\n",
       "        vertical-align: middle;\n",
       "    }\n",
       "\n",
       "    .dataframe tbody tr th {\n",
       "        vertical-align: top;\n",
       "    }\n",
       "\n",
       "    .dataframe thead th {\n",
       "        text-align: right;\n",
       "    }\n",
       "</style>\n",
       "<table border=\"1\" class=\"dataframe\">\n",
       "  <thead>\n",
       "    <tr style=\"text-align: right;\">\n",
       "      <th></th>\n",
       "      <th>category</th>\n",
       "      <th>tech1</th>\n",
       "      <th>description</th>\n",
       "      <th>fit</th>\n",
       "      <th>title</th>\n",
       "      <th>also_buy</th>\n",
       "      <th>tech2</th>\n",
       "      <th>brand</th>\n",
       "      <th>feature</th>\n",
       "      <th>rank</th>\n",
       "      <th>also_view</th>\n",
       "      <th>details</th>\n",
       "      <th>main_cat</th>\n",
       "      <th>similar_item</th>\n",
       "      <th>date</th>\n",
       "      <th>price</th>\n",
       "      <th>asin</th>\n",
       "      <th>imageURL</th>\n",
       "      <th>imageURLHighRes</th>\n",
       "    </tr>\n",
       "  </thead>\n",
       "  <tbody>\n",
       "    <tr>\n",
       "      <th>0</th>\n",
       "      <td>[]</td>\n",
       "      <td></td>\n",
       "      <td>[Loud 'N Clear Personal Sound Amplifier allows...</td>\n",
       "      <td></td>\n",
       "      <td>Loud 'N Clear&amp;trade; Personal Sound Amplifier</td>\n",
       "      <td>[]</td>\n",
       "      <td></td>\n",
       "      <td>idea village</td>\n",
       "      <td>[]</td>\n",
       "      <td>2,938,573 in Beauty &amp; Personal Care (</td>\n",
       "      <td>[]</td>\n",
       "      <td>{'ASIN: ': '6546546450'}</td>\n",
       "      <td>All Beauty</td>\n",
       "      <td></td>\n",
       "      <td></td>\n",
       "      <td></td>\n",
       "      <td>6546546450</td>\n",
       "      <td>[]</td>\n",
       "      <td>[]</td>\n",
       "    </tr>\n",
       "    <tr>\n",
       "      <th>1</th>\n",
       "      <td>[]</td>\n",
       "      <td></td>\n",
       "      <td>[No7 Lift &amp; Luminate Triple Action Serum 50ml ...</td>\n",
       "      <td></td>\n",
       "      <td>No7 Lift &amp;amp; Luminate Triple Action Serum 50...</td>\n",
       "      <td>[B01E7LCSL6, B008X5RVME]</td>\n",
       "      <td></td>\n",
       "      <td></td>\n",
       "      <td>[]</td>\n",
       "      <td>872,854 in Beauty &amp; Personal Care (</td>\n",
       "      <td>[]</td>\n",
       "      <td>{'Shipping Weight:': '0.3 ounces (', 'ASIN: ':...</td>\n",
       "      <td>All Beauty</td>\n",
       "      <td>class=\"a-bordered a-horizontal-stripes  a-spa...</td>\n",
       "      <td></td>\n",
       "      <td>$44.99</td>\n",
       "      <td>7178680776</td>\n",
       "      <td>[]</td>\n",
       "      <td>[]</td>\n",
       "    </tr>\n",
       "    <tr>\n",
       "      <th>2</th>\n",
       "      <td>[]</td>\n",
       "      <td></td>\n",
       "      <td>[No7 Stay Perfect Foundation now stays perfect...</td>\n",
       "      <td></td>\n",
       "      <td>No7 Stay Perfect Foundation Cool Vanilla by No7</td>\n",
       "      <td>[]</td>\n",
       "      <td></td>\n",
       "      <td>No7</td>\n",
       "      <td>[]</td>\n",
       "      <td>956,696 in Beauty &amp; Personal Care (</td>\n",
       "      <td>[B01B8BR0O8, B01B8BR0NO, B014MHXXM8]</td>\n",
       "      <td>{'Shipping Weight:': '3.5 ounces (', 'ASIN: ':...</td>\n",
       "      <td>All Beauty</td>\n",
       "      <td></td>\n",
       "      <td></td>\n",
       "      <td>$28.76</td>\n",
       "      <td>7250468162</td>\n",
       "      <td>[]</td>\n",
       "      <td>[]</td>\n",
       "    </tr>\n",
       "    <tr>\n",
       "      <th>3</th>\n",
       "      <td>[]</td>\n",
       "      <td></td>\n",
       "      <td>[]</td>\n",
       "      <td></td>\n",
       "      <td>Wella Koleston Perfect Hair Colour 44/44 Mediu...</td>\n",
       "      <td>[B0041PBXX8]</td>\n",
       "      <td></td>\n",
       "      <td></td>\n",
       "      <td>[]</td>\n",
       "      <td>1,870,258 in Beauty &amp; Personal Care (</td>\n",
       "      <td>[]</td>\n",
       "      <td>{'\n",
       "    Item Weight: \n",
       "    ': '1.76 ounces', 'Sh...</td>\n",
       "      <td>All Beauty</td>\n",
       "      <td></td>\n",
       "      <td></td>\n",
       "      <td></td>\n",
       "      <td>7367905066</td>\n",
       "      <td>[https://images-na.ssl-images-amazon.com/image...</td>\n",
       "      <td>[https://images-na.ssl-images-amazon.com/image...</td>\n",
       "    </tr>\n",
       "    <tr>\n",
       "      <th>4</th>\n",
       "      <td>[]</td>\n",
       "      <td></td>\n",
       "      <td>[Lacto Calamine Skin Balance Daily Nourishing ...</td>\n",
       "      <td></td>\n",
       "      <td>Lacto Calamine Skin Balance Oil control 120 ml...</td>\n",
       "      <td>[]</td>\n",
       "      <td></td>\n",
       "      <td>Pirmal Healthcare</td>\n",
       "      <td>[]</td>\n",
       "      <td>67,701 in Beauty &amp; Personal Care (</td>\n",
       "      <td>[3254895630, B007VL1D9S, B00EH9A0RI, B0773MBG4...</td>\n",
       "      <td>{'Shipping Weight:': '12 ounces (', 'ASIN: ': ...</td>\n",
       "      <td>All Beauty</td>\n",
       "      <td></td>\n",
       "      <td></td>\n",
       "      <td>$12.15</td>\n",
       "      <td>7414204790</td>\n",
       "      <td>[https://images-na.ssl-images-amazon.com/image...</td>\n",
       "      <td>[https://images-na.ssl-images-amazon.com/image...</td>\n",
       "    </tr>\n",
       "  </tbody>\n",
       "</table>\n",
       "</div>"
      ],
      "text/plain": [
       "  category tech1                                        description fit  \\\n",
       "0       []        [Loud 'N Clear Personal Sound Amplifier allows...       \n",
       "1       []        [No7 Lift & Luminate Triple Action Serum 50ml ...       \n",
       "2       []        [No7 Stay Perfect Foundation now stays perfect...       \n",
       "3       []                                                       []       \n",
       "4       []        [Lacto Calamine Skin Balance Daily Nourishing ...       \n",
       "\n",
       "                                               title  \\\n",
       "0      Loud 'N Clear&trade; Personal Sound Amplifier   \n",
       "1  No7 Lift &amp; Luminate Triple Action Serum 50...   \n",
       "2    No7 Stay Perfect Foundation Cool Vanilla by No7   \n",
       "3  Wella Koleston Perfect Hair Colour 44/44 Mediu...   \n",
       "4  Lacto Calamine Skin Balance Oil control 120 ml...   \n",
       "\n",
       "                   also_buy tech2              brand feature  \\\n",
       "0                        []             idea village      []   \n",
       "1  [B01E7LCSL6, B008X5RVME]                               []   \n",
       "2                        []                      No7      []   \n",
       "3              [B0041PBXX8]                               []   \n",
       "4                        []        Pirmal Healthcare      []   \n",
       "\n",
       "                                    rank  \\\n",
       "0  2,938,573 in Beauty & Personal Care (   \n",
       "1    872,854 in Beauty & Personal Care (   \n",
       "2    956,696 in Beauty & Personal Care (   \n",
       "3  1,870,258 in Beauty & Personal Care (   \n",
       "4     67,701 in Beauty & Personal Care (   \n",
       "\n",
       "                                           also_view  \\\n",
       "0                                                 []   \n",
       "1                                                 []   \n",
       "2               [B01B8BR0O8, B01B8BR0NO, B014MHXXM8]   \n",
       "3                                                 []   \n",
       "4  [3254895630, B007VL1D9S, B00EH9A0RI, B0773MBG4...   \n",
       "\n",
       "                                             details    main_cat  \\\n",
       "0                           {'ASIN: ': '6546546450'}  All Beauty   \n",
       "1  {'Shipping Weight:': '0.3 ounces (', 'ASIN: ':...  All Beauty   \n",
       "2  {'Shipping Weight:': '3.5 ounces (', 'ASIN: ':...  All Beauty   \n",
       "3  {'\n",
       "    Item Weight: \n",
       "    ': '1.76 ounces', 'Sh...  All Beauty   \n",
       "4  {'Shipping Weight:': '12 ounces (', 'ASIN: ': ...  All Beauty   \n",
       "\n",
       "                                        similar_item date   price        asin  \\\n",
       "0                                                                  6546546450   \n",
       "1   class=\"a-bordered a-horizontal-stripes  a-spa...       $44.99  7178680776   \n",
       "2                                                          $28.76  7250468162   \n",
       "3                                                                  7367905066   \n",
       "4                                                          $12.15  7414204790   \n",
       "\n",
       "                                            imageURL  \\\n",
       "0                                                 []   \n",
       "1                                                 []   \n",
       "2                                                 []   \n",
       "3  [https://images-na.ssl-images-amazon.com/image...   \n",
       "4  [https://images-na.ssl-images-amazon.com/image...   \n",
       "\n",
       "                                     imageURLHighRes  \n",
       "0                                                 []  \n",
       "1                                                 []  \n",
       "2                                                 []  \n",
       "3  [https://images-na.ssl-images-amazon.com/image...  \n",
       "4  [https://images-na.ssl-images-amazon.com/image...  "
      ]
     },
     "metadata": {},
     "output_type": "display_data"
    }
   ],
   "source": [
    "metadata.head()"
   ]
  }
 ],
 "metadata": {
  "language_info": {
   "name": "python"
  },
  "orig_nbformat": 4
 },
 "nbformat": 4,
 "nbformat_minor": 2
}
